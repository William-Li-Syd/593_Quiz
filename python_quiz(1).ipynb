{
 "cells": [
  {
   "cell_type": "code",
   "execution_count": 1,
   "metadata": {
    "deletable": false,
    "editable": false
   },
   "outputs": [],
   "source": [
    "# Initialize Otter\n",
    "!pip install -q otter-grader &> /dev/null\n",
    "import otter\n",
    "grader = otter.Notebook(\"python_quiz.ipynb\")"
   ]
  },
  {
   "cell_type": "markdown",
   "metadata": {},
   "source": [
    "In order for us to:\n",
    "\n",
    "1. get a sense of how strong your python is\n",
    "1. give you an example of how many of the assignments will work\n",
    "\n",
    "Please give it an honest attempt. "
   ]
  },
  {
   "cell_type": "markdown",
   "metadata": {
    "deletable": false,
    "editable": false
   },
   "source": [
    "## **Question 1.** Extract Student Records from JSON\n",
    "\n",
    "Read the provided JSON file \"records.json\" and extract a list of student records, with each record being a dictionary."
   ]
  },
  {
   "cell_type": "code",
   "execution_count": 2,
   "metadata": {
    "tags": []
   },
   "outputs": [
    {
     "name": "stdout",
     "output_type": "stream",
     "text": [
      "[{'name': '     Alice Johnson ', 'age': 20, 'courses': ['CS501', 'CS502', 'CS503']}, {'name': 'Bob    Smith ', 'age': 22, 'courses': ['CS505', 'CS504']}, {'name': '    Charlie Davis', 'age': 19, 'courses': ['CS501', 'CS508', 'CS506']}, {'name': '   Diana    Taylor', 'age': 21, 'courses': ['CS503', 'CS502', 'CS506', 'CS507']}, {'name': '   Bob   Dylan ', 'age': 21, 'courses': ['CS509', 'CS502', 'CS504']}]\n"
     ]
    }
   ],
   "source": [
    "import json\n",
    "\n",
    "with open('records.json', 'r') as file:\n",
    "    data = json.load(file)\n",
    "    records = data['students']\n",
    "\n",
    "print(records)\n"
   ]
  },
  {
   "cell_type": "code",
   "execution_count": 3,
   "metadata": {
    "deletable": false,
    "editable": false
   },
   "outputs": [
    {
     "data": {
      "text/html": [
       "<p><strong><pre style='display: inline;'>q1</pre></strong> passed! 🍀</p>"
      ],
      "text/plain": [
       "q1 results: All test cases passed!"
      ]
     },
     "execution_count": 3,
     "metadata": {},
     "output_type": "execute_result"
    }
   ],
   "source": [
    "grader.check(\"q1\")"
   ]
  },
  {
   "cell_type": "markdown",
   "metadata": {
    "deletable": false,
    "editable": false
   },
   "source": [
    "## **Question 2.** Copy JSON Content Using shutil\n",
    "\n",
    "Create a new JSON file called `clone-records.json` and copy the contents of 'records.json' into it using the shutil library."
   ]
  },
  {
   "cell_type": "code",
   "execution_count": 4,
   "metadata": {
    "tags": []
   },
   "outputs": [
    {
     "data": {
      "text/plain": [
       "'cloned-records.json'"
      ]
     },
     "execution_count": 4,
     "metadata": {},
     "output_type": "execute_result"
    }
   ],
   "source": [
    "import shutil\n",
    "\n",
    "source_file = 'records.json'\n",
    "destination_file = 'cloned-records.json'\n",
    "\n",
    "shutil.copyfile(source_file, destination_file)"
   ]
  },
  {
   "cell_type": "code",
   "execution_count": 5,
   "metadata": {
    "deletable": false,
    "editable": false
   },
   "outputs": [
    {
     "data": {
      "text/html": [
       "<p><strong><pre style='display: inline;'>q2</pre></strong> passed! 🎉</p>"
      ],
      "text/plain": [
       "q2 results: All test cases passed!"
      ]
     },
     "execution_count": 5,
     "metadata": {},
     "output_type": "execute_result"
    }
   ],
   "source": [
    "grader.check(\"q2\")"
   ]
  },
  {
   "cell_type": "markdown",
   "metadata": {
    "deletable": false,
    "editable": false
   },
   "source": [
    "## **Question 3.** Sort Students by Age in Descending Order\n",
    "\n",
    "Read the provided JSON file \"records.json\" and extract a list of student records and assign it to `sorted_records`, with each record being a dictionary. Use only one line of python."
   ]
  },
  {
   "cell_type": "code",
   "execution_count": 6,
   "metadata": {
    "tags": []
   },
   "outputs": [
    {
     "name": "stdout",
     "output_type": "stream",
     "text": [
      "[{'name': 'Bob    Smith ', 'age': 22, 'courses': ['CS505', 'CS504']}, {'name': '   Diana    Taylor', 'age': 21, 'courses': ['CS503', 'CS502', 'CS506', 'CS507']}, {'name': '   Bob   Dylan ', 'age': 21, 'courses': ['CS509', 'CS502', 'CS504']}, {'name': '     Alice Johnson ', 'age': 20, 'courses': ['CS501', 'CS502', 'CS503']}, {'name': '    Charlie Davis', 'age': 19, 'courses': ['CS501', 'CS508', 'CS506']}]\n"
     ]
    }
   ],
   "source": [
    "sorted_records = sorted(records, key=lambda x: x['age'], reverse=True)\n",
    "\n",
    "print(sorted_records)\n"
   ]
  },
  {
   "cell_type": "code",
   "execution_count": 7,
   "metadata": {
    "deletable": false,
    "editable": false
   },
   "outputs": [
    {
     "data": {
      "text/html": [
       "<p><strong><pre style='display: inline;'>q3</pre></strong> passed! 🌟</p>"
      ],
      "text/plain": [
       "q3 results: All test cases passed!"
      ]
     },
     "execution_count": 7,
     "metadata": {},
     "output_type": "execute_result"
    }
   ],
   "source": [
    "grader.check(\"q3\")"
   ]
  },
  {
   "cell_type": "markdown",
   "metadata": {
    "deletable": false,
    "editable": false
   },
   "source": [
    "## **Question 4.** Clean and Format Student Names Using Regex\n",
    "\n",
    "Write Python code to format the 'name' field in each dictionary from the list to the 'Firstname Lastname' format. Remove any extra white spaces between the first name and last name, as well as leading and trailing spaces in each name string. Store the result in `cleaned_records`. (Hint: Use Regex)"
   ]
  },
  {
   "cell_type": "code",
   "execution_count": 8,
   "metadata": {
    "tags": []
   },
   "outputs": [
    {
     "ename": "NameError",
     "evalue": "name 'cleaned_records' is not defined",
     "output_type": "error",
     "traceback": [
      "\u001b[0;31m---------------------------------------------------------------------------\u001b[0m",
      "\u001b[0;31mNameError\u001b[0m                                 Traceback (most recent call last)",
      "Cell \u001b[0;32mIn[8], line 4\u001b[0m\n\u001b[1;32m      1\u001b[0m \u001b[38;5;28;01mimport\u001b[39;00m \u001b[38;5;21;01mre\u001b[39;00m\n\u001b[0;32m----> 4\u001b[0m \u001b[38;5;28mprint\u001b[39m(cleaned_records)\n",
      "\u001b[0;31mNameError\u001b[0m: name 'cleaned_records' is not defined"
     ]
    }
   ],
   "source": [
    "import re\n",
    "\n",
    "\n",
    "print(cleaned_records)"
   ]
  },
  {
   "cell_type": "code",
   "execution_count": 9,
   "metadata": {
    "deletable": false,
    "editable": false
   },
   "outputs": [
    {
     "data": {
      "text/html": [
       "<p><strong style='color: red;'><pre style='display: inline;'>q4</pre> results:</strong></p><p><strong><pre style='display: inline;'>q4 - 1</pre> result:</strong></p><pre>    ❌ Test case failed\n",
       "    Trying:\n",
       "        len(cleaned_records) == 5 and type(cleaned_records) == list\n",
       "    Expecting:\n",
       "        True\n",
       "    **********************************************************************\n",
       "    Line 1, in q4 0\n",
       "    Failed example:\n",
       "        len(cleaned_records) == 5 and type(cleaned_records) == list\n",
       "    Exception raised:\n",
       "        Traceback (most recent call last):\n",
       "          File \"/Users/williamli/anaconda3/lib/python3.11/doctest.py\", line 1351, in __run\n",
       "            exec(compile(example.source, filename, \"single\",\n",
       "          File \"<doctest q4 0[0]>\", line 1, in <module>\n",
       "            len(cleaned_records) == 5 and type(cleaned_records) == list\n",
       "                ^^^^^^^^^^^^^^^\n",
       "        NameError: name 'cleaned_records' is not defined\n",
       "</pre>"
      ],
      "text/plain": [
       "q4 results:\n",
       "    q4 - 1 result:\n",
       "        ❌ Test case failed\n",
       "        Trying:\n",
       "            len(cleaned_records) == 5 and type(cleaned_records) == list\n",
       "        Expecting:\n",
       "            True\n",
       "        **********************************************************************\n",
       "        Line 1, in q4 0\n",
       "        Failed example:\n",
       "            len(cleaned_records) == 5 and type(cleaned_records) == list\n",
       "        Exception raised:\n",
       "            Traceback (most recent call last):\n",
       "              File \"/Users/williamli/anaconda3/lib/python3.11/doctest.py\", line 1351, in __run\n",
       "                exec(compile(example.source, filename, \"single\",\n",
       "              File \"<doctest q4 0[0]>\", line 1, in <module>\n",
       "                len(cleaned_records) == 5 and type(cleaned_records) == list\n",
       "                    ^^^^^^^^^^^^^^^\n",
       "            NameError: name 'cleaned_records' is not defined"
      ]
     },
     "execution_count": 9,
     "metadata": {},
     "output_type": "execute_result"
    }
   ],
   "source": [
    "grader.check(\"q4\")"
   ]
  },
  {
   "cell_type": "markdown",
   "metadata": {
    "deletable": false,
    "editable": false
   },
   "source": [
    "## **Question 5.** Add Course Count to Each Student Record\n",
    "\n",
    "Create a new dataset called `courses_records` where each student record includes an attribute called `num_courses` representing the total number of courses the student is enrolled in. "
   ]
  },
  {
   "cell_type": "code",
   "execution_count": 10,
   "metadata": {
    "tags": []
   },
   "outputs": [
    {
     "name": "stdout",
     "output_type": "stream",
     "text": [
      "[{'name': '     Alice Johnson ', 'age': 20, 'courses': ['CS501', 'CS502', 'CS503'], 'num_courses': 3}, {'name': 'Bob    Smith ', 'age': 22, 'courses': ['CS505', 'CS504'], 'num_courses': 2}, {'name': '    Charlie Davis', 'age': 19, 'courses': ['CS501', 'CS508', 'CS506'], 'num_courses': 3}, {'name': '   Diana    Taylor', 'age': 21, 'courses': ['CS503', 'CS502', 'CS506', 'CS507'], 'num_courses': 4}, {'name': '   Bob   Dylan ', 'age': 21, 'courses': ['CS509', 'CS502', 'CS504'], 'num_courses': 3}]\n"
     ]
    }
   ],
   "source": [
    "\n",
    "courses_records = [{**record, 'num_courses': len(record['courses'])} for record in records]\n",
    "print(courses_records)\n"
   ]
  },
  {
   "cell_type": "code",
   "execution_count": 11,
   "metadata": {
    "deletable": false,
    "editable": false
   },
   "outputs": [
    {
     "data": {
      "text/html": [
       "<p><strong><pre style='display: inline;'>q5</pre></strong> passed! ✨</p>"
      ],
      "text/plain": [
       "q5 results: All test cases passed!"
      ]
     },
     "execution_count": 11,
     "metadata": {},
     "output_type": "execute_result"
    }
   ],
   "source": [
    "grader.check(\"q5\")"
   ]
  },
  {
   "cell_type": "markdown",
   "metadata": {
    "deletable": false,
    "editable": false
   },
   "source": [
    "## **Question 6.** Filter Students by Course Enrollment\n",
    "\n",
    "Create a function that accepts a course name as input and returns a list of students who are enrolled in that course."
   ]
  },
  {
   "cell_type": "code",
   "execution_count": 12,
   "metadata": {
    "tags": []
   },
   "outputs": [],
   "source": [
    "def get_students(course_name):\n",
    "\n",
    "    return [student['name'] for student in records if course_name in student['courses']]\n"
   ]
  },
  {
   "cell_type": "code",
   "execution_count": 13,
   "metadata": {
    "deletable": false,
    "editable": false
   },
   "outputs": [
    {
     "data": {
      "text/html": [
       "<p><strong><pre style='display: inline;'>q6</pre></strong> passed! 🌟</p>"
      ],
      "text/plain": [
       "q6 results: All test cases passed!"
      ]
     },
     "execution_count": 13,
     "metadata": {},
     "output_type": "execute_result"
    }
   ],
   "source": [
    "grader.check(\"q6\")"
   ]
  },
  {
   "cell_type": "markdown",
   "metadata": {
    "deletable": false,
    "editable": false
   },
   "source": [
    "## **Question 7.** Calculate Average Age of Students\n",
    "\n",
    "Calculate and return the average age of the students, rounding off to the nearest integer and assign it to a variable called `avg_age`."
   ]
  },
  {
   "cell_type": "code",
   "execution_count": 14,
   "metadata": {
    "tags": []
   },
   "outputs": [
    {
     "name": "stdout",
     "output_type": "stream",
     "text": [
      "21\n"
     ]
    }
   ],
   "source": [
    "import numpy as np\n",
    "\n",
    "def get_avg_age(student_list):\n",
    "    ages = [student['age'] for student in student_list]\n",
    "    return int(np.round(np.mean(ages)))\n",
    "\n",
    "avg_age = get_avg_age(records)\n",
    "print(avg_age)\n"
   ]
  },
  {
   "cell_type": "code",
   "execution_count": 15,
   "metadata": {
    "deletable": false,
    "editable": false
   },
   "outputs": [
    {
     "data": {
      "text/html": [
       "<p><strong><pre style='display: inline;'>q7</pre></strong> passed! 🙌</p>"
      ],
      "text/plain": [
       "q7 results: All test cases passed!"
      ]
     },
     "execution_count": 15,
     "metadata": {},
     "output_type": "execute_result"
    }
   ],
   "source": [
    "grader.check(\"q7\")"
   ]
  },
  {
   "cell_type": "markdown",
   "metadata": {
    "deletable": false,
    "editable": false
   },
   "source": [
    "## **Question 8.** List of Unique Courses\n",
    "\n",
    "Create a list of unique courses offered, as per the student records, and assign it to `total_courses`."
   ]
  },
  {
   "cell_type": "code",
   "execution_count": 16,
   "metadata": {
    "tags": []
   },
   "outputs": [
    {
     "name": "stdout",
     "output_type": "stream",
     "text": [
      "['CS501' 'CS504' 'CS503' 'CS507' 'CS506' 'CS502' 'CS505' 'CS508' 'CS509']\n"
     ]
    }
   ],
   "source": [
    "import numpy as np\n",
    "\n",
    "def get_unq_courses(student_list):\n",
    "    courses = set()\n",
    "    for student in student_list:\n",
    "        courses.update(student['courses'])\n",
    "    return np.array(list(courses))\n",
    "\n",
    "total_courses = get_unq_courses(records)\n",
    "print(total_courses)\n"
   ]
  },
  {
   "cell_type": "code",
   "execution_count": 17,
   "metadata": {
    "deletable": false,
    "editable": false
   },
   "outputs": [
    {
     "data": {
      "text/html": [
       "<p><strong><pre style='display: inline;'>q8</pre></strong> passed! 🙌</p>"
      ],
      "text/plain": [
       "q8 results: All test cases passed!"
      ]
     },
     "execution_count": 17,
     "metadata": {},
     "output_type": "execute_result"
    }
   ],
   "source": [
    "grader.check(\"q8\")"
   ]
  },
  {
   "cell_type": "markdown",
   "metadata": {
    "deletable": false,
    "editable": false
   },
   "source": [
    "## **Question 9.** Group Students by Age \n",
    "\n",
    "Return a dictionary where each key is an age, and the value is a list of student names who are of that age, and assign it to a variable called `grouped_students`. Utilize itertools.groupby to group the list of students by their age."
   ]
  },
  {
   "cell_type": "code",
   "execution_count": null,
   "metadata": {
    "tags": []
   },
   "outputs": [],
   "source": [
    "import itertools\n",
    "\n",
    "def group_students_by_age(student_list):\n",
    "\n",
    "    grouped_students = {}\n",
    "    for student in student_list:\n",
    "        age = student['age']\n",
    "\n",
    "print(grouped_students) "
   ]
  },
  {
   "cell_type": "code",
   "execution_count": null,
   "metadata": {
    "deletable": false,
    "editable": false
   },
   "outputs": [],
   "source": [
    "grader.check(\"q9\")"
   ]
  },
  {
   "cell_type": "markdown",
   "metadata": {
    "deletable": false,
    "editable": false
   },
   "source": [
    "## **Question 10.** Generate Course Enrollment Summary\n",
    "\n",
    "Generate a dictionary where each key is a course name and the value is the number of students enrolled in that course.\n"
   ]
  },
  {
   "cell_type": "code",
   "execution_count": null,
   "metadata": {
    "tags": []
   },
   "outputs": [],
   "source": [
    "from collections import Counter\n",
    "\n",
    "def get_course_dict(student_records):\n",
    "\n",
    "course_enrollment = ...\n",
    "print(course_enrollment)"
   ]
  },
  {
   "cell_type": "code",
   "execution_count": null,
   "metadata": {
    "deletable": false,
    "editable": false
   },
   "outputs": [],
   "source": [
    "grader.check(\"q10\")"
   ]
  }
 ],
 "metadata": {
  "kernelspec": {
   "display_name": "Python 3 (ipykernel)",
   "language": "python",
   "name": "python3"
  },
  "language_info": {
   "codemirror_mode": {
    "name": "ipython",
    "version": 3
   },
   "file_extension": ".py",
   "mimetype": "text/x-python",
   "name": "python",
   "nbconvert_exporter": "python",
   "pygments_lexer": "ipython3",
   "version": "3.11.5"
  },
  "otter": {
   "OK_FORMAT": true,
   "tests": {
    "q1": {
     "name": "q1",
     "points": 10,
     "suites": [
      {
       "cases": [
        {
         "code": ">>> type(records) == list\nTrue",
         "hidden": false,
         "locked": false
        }
       ],
       "scored": true,
       "setup": "",
       "teardown": "",
       "type": "doctest"
      }
     ]
    },
    "q10": {
     "name": "q10",
     "points": 10,
     "suites": [
      {
       "cases": [
        {
         "code": ">>> type(course_enrollment) == dict\nTrue",
         "hidden": false,
         "locked": false
        }
       ],
       "scored": true,
       "setup": "",
       "teardown": "",
       "type": "doctest"
      }
     ]
    },
    "q2": {
     "name": "q2",
     "points": 10,
     "suites": [
      {
       "cases": [
        {
         "code": ">>> import os\n>>> os.path.exists('cloned-records.json') and os.path.getsize('cloned-records.json') > 0\nTrue",
         "hidden": false,
         "locked": false
        }
       ],
       "scored": true,
       "setup": "",
       "teardown": "",
       "type": "doctest"
      }
     ]
    },
    "q3": {
     "name": "q3",
     "points": [
      0
     ],
     "suites": [
      {
       "cases": [
        {
         "code": ">>> len(sorted_records) == 5\nTrue",
         "hidden": false,
         "locked": false
        }
       ],
       "scored": true,
       "setup": "",
       "teardown": "",
       "type": "doctest"
      }
     ]
    },
    "q4": {
     "name": "q4",
     "points": 10,
     "suites": [
      {
       "cases": [
        {
         "code": ">>> len(cleaned_records) == 5 and type(cleaned_records) == list\nTrue",
         "hidden": false,
         "locked": false
        }
       ],
       "scored": true,
       "setup": "",
       "teardown": "",
       "type": "doctest"
      }
     ]
    },
    "q5": {
     "name": "q5",
     "points": 10,
     "suites": [
      {
       "cases": [
        {
         "code": ">>> len(courses_records) == 5 and type(courses_records) == list\nTrue",
         "hidden": false,
         "locked": false
        }
       ],
       "scored": true,
       "setup": "",
       "teardown": "",
       "type": "doctest"
      }
     ]
    },
    "q6": {
     "name": "q6",
     "points": 10,
     "suites": [
      {
       "cases": [
        {
         "code": ">>> len(get_students('CS506')) == 2\nTrue",
         "hidden": false,
         "locked": false
        }
       ],
       "scored": true,
       "setup": "",
       "teardown": "",
       "type": "doctest"
      }
     ]
    },
    "q7": {
     "name": "q7",
     "points": 10,
     "suites": [
      {
       "cases": [
        {
         "code": ">>> type(avg_age) == int\nTrue",
         "hidden": false,
         "locked": false
        }
       ],
       "scored": true,
       "setup": "",
       "teardown": "",
       "type": "doctest"
      }
     ]
    },
    "q8": {
     "name": "q8",
     "points": 10,
     "suites": [
      {
       "cases": [
        {
         "code": ">>> type(total_courses) == np.ndarray\nTrue",
         "hidden": false,
         "locked": false
        }
       ],
       "scored": true,
       "setup": "",
       "teardown": "",
       "type": "doctest"
      }
     ]
    },
    "q9": {
     "name": "q9",
     "points": 10,
     "suites": [
      {
       "cases": [
        {
         "code": ">>> type(grouped_students) == dict\nTrue",
         "hidden": false,
         "locked": false
        }
       ],
       "scored": true,
       "setup": "",
       "teardown": "",
       "type": "doctest"
      }
     ]
    }
   }
  }
 },
 "nbformat": 4,
 "nbformat_minor": 2
}
